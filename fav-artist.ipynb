{
 "cells": [
  {
   "cell_type": "code",
   "execution_count": 4,
   "metadata": {},
   "outputs": [
    {
     "name": "stdin",
     "output_type": "stream",
     "text": [
      "What's your name? Joy\n",
      "What is your favorite artist? Ariana Grande\n"
     ]
    },
    {
     "name": "stdout",
     "output_type": "stream",
     "text": [
      "Wow great choice Joy , Ariana Grande releases some hit songs!\n"
     ]
    }
   ],
   "source": [
    "def getartist():\n",
    "    name = input(\"What's your name?\")\n",
    "    artist = input(\"What is your favorite artist?\")\n",
    "    print(\"Wow great choice\", name, \",\", artist, \"releases some hit songs!\")\n",
    "    \n",
    "getartist()"
   ]
  },
  {
   "cell_type": "code",
   "execution_count": null,
   "metadata": {},
   "outputs": [],
   "source": []
  }
 ],
 "metadata": {
  "kernelspec": {
   "display_name": "Python 3",
   "language": "python",
   "name": "python3"
  },
  "language_info": {
   "codemirror_mode": {
    "name": "ipython",
    "version": 3
   },
   "file_extension": ".py",
   "mimetype": "text/x-python",
   "name": "python",
   "nbconvert_exporter": "python",
   "pygments_lexer": "ipython3",
   "version": "3.8.3"
  }
 },
 "nbformat": 4,
 "nbformat_minor": 4
}
